{
 "cells": [
  {
   "cell_type": "code",
   "execution_count": 1,
   "id": "e9855945",
   "metadata": {
    "_cell_guid": "b1076dfc-b9ad-4769-8c92-a6c4dae69d19",
    "_uuid": "8f2839f25d086af736a60e9eeb907d3b93b6e0e5",
    "execution": {
     "iopub.execute_input": "2022-07-04T13:11:44.137067Z",
     "iopub.status.busy": "2022-07-04T13:11:44.136403Z",
     "iopub.status.idle": "2022-07-04T13:11:44.149213Z",
     "shell.execute_reply": "2022-07-04T13:11:44.148025Z"
    },
    "papermill": {
     "duration": 0.020765,
     "end_time": "2022-07-04T13:11:44.152560",
     "exception": false,
     "start_time": "2022-07-04T13:11:44.131795",
     "status": "completed"
    },
    "tags": []
   },
   "outputs": [
    {
     "name": "stdout",
     "output_type": "stream",
     "text": [
      "helrowr\n"
     ]
    }
   ],
   "source": [
    "print('helrowr')"
   ]
  }
 ],
 "metadata": {
  "kernelspec": {
   "display_name": "Python 3",
   "language": "python",
   "name": "python3"
  },
  "language_info": {
   "codemirror_mode": {
    "name": "ipython",
    "version": 3
   },
   "file_extension": ".py",
   "mimetype": "text/x-python",
   "name": "python",
   "nbconvert_exporter": "python",
   "pygments_lexer": "ipython3",
   "version": "3.7.12"
  },
  "papermill": {
   "default_parameters": {},
   "duration": 11.134741,
   "end_time": "2022-07-04T13:11:44.776180",
   "environment_variables": {},
   "exception": null,
   "input_path": "__notebook__.ipynb",
   "output_path": "__notebook__.ipynb",
   "parameters": {},
   "start_time": "2022-07-04T13:11:33.641439",
   "version": "2.3.4"
  }
 },
 "nbformat": 4,
 "nbformat_minor": 5
}
